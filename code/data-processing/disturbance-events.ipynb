{
 "cells": [
  {
   "cell_type": "code",
   "execution_count": null,
   "id": "56fe2052-a12d-46a2-a34a-87215b319628",
   "metadata": {},
   "outputs": [],
   "source": [
    "# get data\n",
    "! cp -r ~/data-store/data/iplant/home/shared/earthlab/forest_carbon_codefest/Disturbance/LF_Public_Events_1999_2022 ./LF_Events"
   ]
  },
  {
   "cell_type": "code",
   "execution_count": 2,
   "id": "0ecd7e04-6342-48e8-84a0-8927bd0d594b",
   "metadata": {},
   "outputs": [
    {
     "name": "stdout",
     "output_type": "stream",
     "text": [
      "--2024-03-12 23:18:52--  https://gaftp.epa.gov/EPADataCommons/ORD/Ecoregions/us/us_eco_l3.zip\n",
      "Resolving gaftp.epa.gov (gaftp.epa.gov)... 134.67.100.99, 2620:117:506f:c7::f063\n",
      "Connecting to gaftp.epa.gov (gaftp.epa.gov)|134.67.100.99|:443... connected.\n",
      "WARNING: cannot verify gaftp.epa.gov's certificate, issued by ‘CN=DigiCert Global G2 TLS RSA SHA256 2020 CA1,O=DigiCert Inc,C=US’:\n",
      "  Unable to locally verify the issuer's authority.\n",
      "HTTP request sent, awaiting response... 200 OK\n",
      "Length: 28424315 (27M) [application/zip]\n",
      "Saving to: ‘us_eco_l3.zip’\n",
      "\n",
      "us_eco_l3.zip       100%[===================>]  27.11M  2.92MB/s    in 8.4s    \n",
      "\n",
      "2024-03-12 23:19:01 (3.21 MB/s) - ‘us_eco_l3.zip’ saved [28424315/28424315]\n",
      "\n"
     ]
    }
   ],
   "source": [
    "! wget --no-check-certificate https://gaftp.epa.gov/EPADataCommons/ORD/Ecoregions/us/us_eco_l3.zip"
   ]
  },
  {
   "cell_type": "code",
   "execution_count": null,
   "id": "620d6795-68f1-438d-b7d8-aeac53ba9a37",
   "metadata": {},
   "outputs": [],
   "source": []
  },
  {
   "cell_type": "code",
   "execution_count": 15,
   "id": "586cdc78-e3e8-425d-866c-4d0bef0ac58d",
   "metadata": {},
   "outputs": [],
   "source": [
    "import geopandas as gpd\n",
    "from collections import Counter\n",
    "import shapely\n",
    "import json"
   ]
  },
  {
   "cell_type": "code",
   "execution_count": 4,
   "id": "66c73506-c521-4f3b-8494-e6b317b27a61",
   "metadata": {},
   "outputs": [],
   "source": [
    "us_eco = gpd.read_file(\"us_eco_l3.zip\").to_crs(\"EPSG:4326\")\n",
    "s_rock_aoi = us_eco[us_eco.US_L3NAME == \"Southern Rockies\"].geometry.unary_union"
   ]
  },
  {
   "cell_type": "code",
   "execution_count": 5,
   "id": "78a05a3a-0350-404e-b57b-33186a522073",
   "metadata": {},
   "outputs": [],
   "source": [
    "event_df = gpd.read_file(\n",
    "    \"./LF_Events/LF_Public_Events_1999_2022.gdb\",\n",
    "    layer=\"CONUS_230_PublicModelReadyEvents\"\n",
    ").to_crs(\"EPSG:4326\")"
   ]
  },
  {
   "cell_type": "code",
   "execution_count": 6,
   "id": "4f4e96e8-fb0b-4835-b441-a1c830a3b720",
   "metadata": {},
   "outputs": [],
   "source": [
    "s_rock_events = event_df[event_df.intersects(s_rock_aoi)]"
   ]
  },
  {
   "cell_type": "code",
   "execution_count": 9,
   "id": "be01f19f-77e1-4409-aee7-5f821a8171f3",
   "metadata": {},
   "outputs": [
    {
     "name": "stdout",
     "output_type": "stream",
     "text": [
      "(69506, 16)\n",
      "Counter({'Insects': 28857, 'Insects/Disease': 6430, 'Prescribed Fire': 6364, 'Other Mechanical': 6307, 'Herbicide': 5940, 'Thinning': 4471, 'Wildfire': 2637, 'Clearcut': 1704, 'Harvest': 1524, 'Planting': 1155, 'Chemical': 1098, 'Disease': 872, 'Mastication': 773, 'Wildland Fire': 430, 'Weather': 402, 'Biological': 262, 'Seeding': 145, 'Development': 75, 'Wildland Fire Use': 42, 'Reforestation': 12, 'Insecticide': 6})\n"
     ]
    }
   ],
   "source": [
    "print(s_rock_events.shape)\n",
    "print(Counter(s_rock_events.Event_Type))"
   ]
  },
  {
   "cell_type": "code",
   "execution_count": 19,
   "id": "5e5617c6-1fec-4dc5-a7ca-e39035d15d36",
   "metadata": {},
   "outputs": [],
   "source": [
    "with open(\"southern_rockies_eco.geojson\", \"w\") as fh:\n",
    "    fh.write(shapely.to_geojson(s_rock_aoi))"
   ]
  },
  {
   "cell_type": "code",
   "execution_count": 25,
   "id": "99f3555b-90f5-444c-8095-c179d2e650ef",
   "metadata": {},
   "outputs": [],
   "source": [
    "s_rock_events.to_file(\"southern_rockies_events.gpkg\")"
   ]
  },
  {
   "cell_type": "code",
   "execution_count": null,
   "id": "c3b9d7a0-0d78-447f-bdcc-6c20f9cfebfe",
   "metadata": {},
   "outputs": [],
   "source": []
  }
 ],
 "metadata": {
  "kernelspec": {
   "display_name": "macrosystems",
   "language": "python",
   "name": "macrosystems"
  },
  "language_info": {
   "codemirror_mode": {
    "name": "ipython",
    "version": 3
   },
   "file_extension": ".py",
   "mimetype": "text/x-python",
   "name": "python",
   "nbconvert_exporter": "python",
   "pygments_lexer": "ipython3",
   "version": "3.10.13"
  }
 },
 "nbformat": 4,
 "nbformat_minor": 5
}
