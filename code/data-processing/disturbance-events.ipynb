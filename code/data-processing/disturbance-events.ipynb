{
 "cells": [
  {
   "cell_type": "code",
   "execution_count": null,
   "id": "821e38f2-07f7-4035-9d53-04b03cd5e877",
   "metadata": {},
   "outputs": [],
   "source": [
    "# need rasterstats\n",
    "! conda install -c conda-forge -y rasterstats"
   ]
  },
  {
   "cell_type": "code",
   "execution_count": null,
   "id": "fd823be7-69a8-4e82-a721-e30f64e5ccff",
   "metadata": {},
   "outputs": [],
   "source": [
    "# get data\n",
    "! cp -r ~/data-store/data/iplant/home/shared/earthlab/forest_carbon_codefest/Disturbance/LF_Public_Events_1999_2022 ./LF_Events"
   ]
  },
  {
   "cell_type": "code",
   "execution_count": 2,
   "id": "0ecd7e04-6342-48e8-84a0-8927bd0d594b",
   "metadata": {},
   "outputs": [
    {
     "name": "stdout",
     "output_type": "stream",
     "text": [
      "--2024-03-12 23:18:52--  https://gaftp.epa.gov/EPADataCommons/ORD/Ecoregions/us/us_eco_l3.zip\n",
      "Resolving gaftp.epa.gov (gaftp.epa.gov)... 134.67.100.99, 2620:117:506f:c7::f063\n",
      "Connecting to gaftp.epa.gov (gaftp.epa.gov)|134.67.100.99|:443... connected.\n",
      "WARNING: cannot verify gaftp.epa.gov's certificate, issued by ‘CN=DigiCert Global G2 TLS RSA SHA256 2020 CA1,O=DigiCert Inc,C=US’:\n",
      "  Unable to locally verify the issuer's authority.\n",
      "HTTP request sent, awaiting response... 200 OK\n",
      "Length: 28424315 (27M) [application/zip]\n",
      "Saving to: ‘us_eco_l3.zip’\n",
      "\n",
      "us_eco_l3.zip       100%[===================>]  27.11M  2.92MB/s    in 8.4s    \n",
      "\n",
      "2024-03-12 23:19:01 (3.21 MB/s) - ‘us_eco_l3.zip’ saved [28424315/28424315]\n",
      "\n"
     ]
    }
   ],
   "source": [
    "! wget --no-check-certificate https://gaftp.epa.gov/EPADataCommons/ORD/Ecoregions/us/us_eco_l3.zip"
   ]
  },
  {
   "cell_type": "code",
   "execution_count": 94,
   "id": "69c3a7f5-9c7e-4b8f-b00d-85f37f575616",
   "metadata": {},
   "outputs": [],
   "source": [
    "# get the NLCD rasters local\n",
    "! ls /data-store/iplant/home/shared/earthlab/forest_carbon_codefest/Team_outputs/Team5/output_data/NLCD_sc/ | \\\n",
    "    grep -v \"tif\" | \\\n",
    "    parallel -j1 \"cp /data-store/iplant/home/shared/earthlab/forest_carbon_codefest/Team_outputs/Team5/output_data/NLCD_sc/{}/*.tif ./\""
   ]
  },
  {
   "cell_type": "code",
   "execution_count": 97,
   "id": "65ae3583-12ea-43a2-9563-d8e6f0dee1ed",
   "metadata": {},
   "outputs": [],
   "source": [
    "# get the elevation data local\n",
    "! cp /data-store/iplant/home/shared/earthlab/forest_carbon_codefest/Team_outputs/Team5/output_data/soro_elev.tif ./"
   ]
  },
  {
   "cell_type": "code",
   "execution_count": null,
   "id": "c93fde57-9389-4cf9-8903-3e69c38fa5f7",
   "metadata": {},
   "outputs": [],
   "source": []
  },
  {
   "cell_type": "code",
   "execution_count": 107,
   "id": "586cdc78-e3e8-425d-866c-4d0bef0ac58d",
   "metadata": {},
   "outputs": [],
   "source": [
    "from typing import Dict, Any, List\n",
    "import multiprocessing\n",
    "\n",
    "import fiona\n",
    "import numpy as np\n",
    "import pandas as pd\n",
    "import geopandas as gpd\n",
    "from tqdm.notebook import tqdm\n",
    "from joblib import Parallel, delayed\n",
    "from rasterstats import zonal_stats\n",
    "\n",
    "from collections import Counter\n",
    "import shapely\n",
    "import json\n",
    "import matplotlib.pyplot as plt\n",
    "\n",
    "\n",
    "def chunks(data, n):\n",
    "    \"\"\"Yield successive n-sized chunks from a slice-able iterable.\"\"\"\n",
    "    for i in range(0, len(data), n):\n",
    "        yield data[i : i + n]\n",
    "\n",
    "\n",
    "def nlcd_category_stats(x: np.ndarray) -> Dict[str, float] :\n",
    "    \"\"\"get the NLCD category stats for an input array\"\"\"\n",
    "\n",
    "    # nonforest\n",
    "    nonforest = (\n",
    "        ((x >= 11) & (x <= 31)) | (x == 51) | (x == 52) | ((x >= 79) & (x <= 95)) & (x != 255)\n",
    "    ).sum()\n",
    "\n",
    "    # deciduous\n",
    "    deciduous = (\n",
    "        (x == 41) & \\\n",
    "        (x != 255)\n",
    "    ).sum()\n",
    "\n",
    "    # evergreen\n",
    "    evergreen = (\n",
    "        (x == 42) & \\\n",
    "        (x != 255)\n",
    "    ).sum()\n",
    "\n",
    "    # mixed\n",
    "    mixed = (\n",
    "        (x == 44) & \\\n",
    "        (x != 255)\n",
    "    ).sum()\n",
    "\n",
    "    total = nonforest + deciduous + evergreen + mixed\n",
    "\n",
    "    return {\"nonforest\": nonforest / total, \"deciduous\": deciduous / total, \"evergreen\": evergreen / total, \"mixed\": mixed / total}\n",
    "\n",
    "\n",
    "def simple_cats(input_cat: str) -> str:\n",
    "    \"\"\"Map catagories to something simple\"\"\"\n",
    "    match input_cat:\n",
    "        case \"Insects\" | \"Insects/Disease\":\n",
    "            return \"insect\"\n",
    "        case 'Wildfire':\n",
    "            return \"fire\"\n",
    "        case _:\n",
    "            return \"other\"\n",
    "\n",
    "\n",
    "def get_nlcd_stats(vector: str, nlcd_year: int) -> List[Dict[str, float]]:\n",
    "    \"\"\"Get NLCD pixel counts for each geometry in a dataframe.\"\"\"\n",
    "\n",
    "    with fiona.open(vector) as src:\n",
    "        features = list(src)\n",
    "\n",
    "    def nlcd_zonal_stats_partial(feats, tif):\n",
    "        \"\"\"Wrapper for zonal stats, takes a list of features\"\"\"\n",
    "        return zonal_stats(feats, f\"{year:d}_nlcd.tif\", all_touched=True, add_stats={'nlcd':nlcd_category_stats})\n",
    "\n",
    "    # Create a process pool using all cores\n",
    "    cores = multiprocessing.cpu_count()\n",
    "    p = multiprocessing.Pool(cores)\n",
    "\n",
    "    # parallel map\n",
    "    stats_lists = p.map(nlcd_zonal_stats_partial, chunks(features, cores))\n",
    "\n",
    "    # flatten to a single list\n",
    "    stats = list(itertools.chain(*stats_lists))\n",
    "\n",
    "\n",
    "def get_elev_stats(vector: str) -> List[Dict[str, float]]:\n",
    "    \"\"\"Get Elevation mean for geometry in a dataframe.\"\"\"\n",
    "\n",
    "    with fiona.open(vector) as src:\n",
    "        features = list(src)\n",
    "\n",
    "    def elev_zonal_stats_partial(feats):\n",
    "        \"\"\"Wrapper for zonal stats, takes a list of features\"\"\"\n",
    "        return zonal_stats(feats, \"soro_elevation\", all_touched=True, stats=\"mean\")\n",
    "\n",
    "    # Create a process pool using all cores\n",
    "    cores = multiprocessing.cpu_count()\n",
    "    p = multiprocessing.Pool(cores)\n",
    "\n",
    "    # parallel map\n",
    "    stats_lists = p.map(elev_zonal_stats_partial, chunks(features, cores))\n",
    "\n",
    "    # flatten to a single list\n",
    "    stats = list(itertools.chain(*stats_lists))\n",
    "\n"
   ]
  },
  {
   "cell_type": "code",
   "execution_count": 4,
   "id": "66c73506-c521-4f3b-8494-e6b317b27a61",
   "metadata": {},
   "outputs": [],
   "source": [
    "us_eco = gpd.read_file(\"us_eco_l3.zip\").to_crs(\"EPSG:4326\")\n",
    "s_rock_aoi = us_eco[us_eco.US_L3NAME == \"Southern Rockies\"].geometry.unary_union"
   ]
  },
  {
   "cell_type": "code",
   "execution_count": 5,
   "id": "78a05a3a-0350-404e-b57b-33186a522073",
   "metadata": {},
   "outputs": [],
   "source": [
    "event_df = gpd.read_file(\n",
    "    \"./LF_Events/LF_Public_Events_1999_2022.gdb\",\n",
    "    layer=\"CONUS_230_PublicModelReadyEvents\"\n",
    ").to_crs(\"EPSG:4326\")"
   ]
  },
  {
   "cell_type": "code",
   "execution_count": 6,
   "id": "4f4e96e8-fb0b-4835-b441-a1c830a3b720",
   "metadata": {},
   "outputs": [],
   "source": [
    "s_rock_events = event_df[event_df.intersects(s_rock_aoi)]"
   ]
  },
  {
   "cell_type": "code",
   "execution_count": 9,
   "id": "be01f19f-77e1-4409-aee7-5f821a8171f3",
   "metadata": {},
   "outputs": [
    {
     "name": "stdout",
     "output_type": "stream",
     "text": [
      "(69506, 16)\n",
      "Counter({'Insects': 28857, 'Insects/Disease': 6430, 'Prescribed Fire': 6364, 'Other Mechanical': 6307, 'Herbicide': 5940, 'Thinning': 4471, 'Wildfire': 2637, 'Clearcut': 1704, 'Harvest': 1524, 'Planting': 1155, 'Chemical': 1098, 'Disease': 872, 'Mastication': 773, 'Wildland Fire': 430, 'Weather': 402, 'Biological': 262, 'Seeding': 145, 'Development': 75, 'Wildland Fire Use': 42, 'Reforestation': 12, 'Insecticide': 6})\n"
     ]
    }
   ],
   "source": [
    "print(s_rock_events.shape)\n",
    "print(Counter(s_rock_events.Event_Type))"
   ]
  },
  {
   "cell_type": "code",
   "execution_count": 19,
   "id": "5e5617c6-1fec-4dc5-a7ca-e39035d15d36",
   "metadata": {},
   "outputs": [],
   "source": [
    "with open(\"southern_rockies_eco.geojson\", \"w\") as fh:\n",
    "    fh.write(shapely.to_geojson(s_rock_aoi))"
   ]
  },
  {
   "cell_type": "code",
   "execution_count": null,
   "id": "8acc354a-d917-44bb-ae1b-1e453dee6126",
   "metadata": {},
   "outputs": [],
   "source": [
    "s_r_e_utm = s_rock_events.to_crs(\"EPSG:32613\")"
   ]
  },
  {
   "cell_type": "code",
   "execution_count": 50,
   "id": "0e45ee97-e58e-4b61-92e3-608e4d27b8e5",
   "metadata": {},
   "outputs": [],
   "source": []
  },
  {
   "cell_type": "code",
   "execution_count": 51,
   "id": "d47112e4-cc6b-4eb6-be6b-aeb1d8999bb5",
   "metadata": {},
   "outputs": [],
   "source": [
    "s_r_e_utm[\"simple_cat\"] = s_r_e_utm.Event_Type.apply(simple_cats)"
   ]
  },
  {
   "cell_type": "code",
   "execution_count": 52,
   "id": "c46e4c0e-9f89-4cba-a4b4-79ad62f0cd50",
   "metadata": {},
   "outputs": [
    {
     "data": {
      "text/plain": [
       "Counter({'insect': 35287, 'other': 31582, 'fire': 2637})"
      ]
     },
     "execution_count": 52,
     "metadata": {},
     "output_type": "execute_result"
    }
   ],
   "source": [
    "Counter(s_r_e_utm.simple_cat)"
   ]
  },
  {
   "cell_type": "code",
   "execution_count": null,
   "id": "b8db7fcb-4946-4043-813e-31f0be8cc44c",
   "metadata": {},
   "outputs": [],
   "source": []
  },
  {
   "cell_type": "code",
   "execution_count": 37,
   "id": "3dd9a4b5-3c2e-4eeb-a680-fee2aa068586",
   "metadata": {},
   "outputs": [],
   "source": []
  },
  {
   "cell_type": "code",
   "execution_count": 68,
   "id": "c3b9d7a0-0d78-447f-bdcc-6c20f9cfebfe",
   "metadata": {},
   "outputs": [
    {
     "data": {
      "text/plain": [
       "(array([3.71354509e+08, 1.67876578e+07, 1.08313793e+09, 4.81023650e+07,\n",
       "        3.23717963e+07, 7.00590772e+07, 3.17606010e+07, 1.36057349e+07,\n",
       "        3.66288688e+07, 9.16233315e+07, 8.12809857e+07, 2.48954015e+08,\n",
       "        5.24504472e+08, 4.92395035e+07, 2.92851964e+08, 1.61095877e+08,\n",
       "        1.23119319e+09, 1.55588264e+08, 2.72827872e+09, 1.97993927e+09]),\n",
       " array([1999.  , 2000.15, 2001.3 , 2002.45, 2003.6 , 2004.75, 2005.9 ,\n",
       "        2007.05, 2008.2 , 2009.35, 2010.5 , 2011.65, 2012.8 , 2013.95,\n",
       "        2015.1 , 2016.25, 2017.4 , 2018.55, 2019.7 , 2020.85, 2022.  ]),\n",
       " <BarContainer object of 20 artists>)"
      ]
     },
     "execution_count": 68,
     "metadata": {},
     "output_type": "execute_result"
    },
    {
     "data": {
      "image/png": "[encoded data removed]",
      "text/plain": [
       "<Figure size 640x480 with 1 Axes>"
      ]
     },
     "metadata": {},
     "output_type": "display_data"
    }
   ],
   "source": [
    "# type = \"insect\"\n",
    "type = \"fire\"\n",
    "# type = \"other\"\n",
    "plt.hist(s_r_e_utm[s_r_e_utm.simple_cat == type].Year, bins=20, log=True, weights=s_r_e_utm[s_r_e_utm.simple_cat == type].area)\n",
    "# s_r_e_utm.hist(by=\"simple_cat\", column=[\"Year\", \"simple_cat\"], bins=20, log=True)"
   ]
  },
  {
   "cell_type": "code",
   "execution_count": 65,
   "id": "ad26b5db-7467-485d-b93d-76e673afbd3f",
   "metadata": {},
   "outputs": [
    {
     "data": {
      "text/plain": [
       "(array([6.84419880e+05, 0.00000000e+00, 4.24415171e+05, 0.00000000e+00,\n",
       "        0.00000000e+00, 2.82890738e+05, 0.00000000e+00, 0.00000000e+00,\n",
       "        0.00000000e+00, 0.00000000e+00, 4.98177811e+05, 3.29009793e+05,\n",
       "        1.66991532e+05, 1.66991532e+05, 0.00000000e+00, 2.09032261e+09,\n",
       "        1.43203251e+09, 1.76507457e+09, 2.20077988e+09, 3.00683024e+09]),\n",
       " array([2001.  , 2002.05, 2003.1 , 2004.15, 2005.2 , 2006.25, 2007.3 ,\n",
       "        2008.35, 2009.4 , 2010.45, 2011.5 , 2012.55, 2013.6 , 2014.65,\n",
       "        2015.7 , 2016.75, 2017.8 , 2018.85, 2019.9 , 2020.95, 2022.  ]),\n",
       " <BarContainer object of 20 artists>)"
      ]
     },
     "execution_count": 65,
     "metadata": {},
     "output_type": "execute_result"
    },
    {
     "data": {
      "image/png": "[encoded data removed]",
      "text/plain": [
       "<Figure size 640x480 with 1 Axes>"
      ]
     },
     "metadata": {},
     "output_type": "display_data"
    }
   ],
   "source": [
    "type = \"insect\"\n",
    "plt.hist(s_r_e_utm[s_r_e_utm.simple_cat == type].Year, bins=20, log=True, weights=s_r_e_utm[s_r_e_utm.simple_cat == type].area)"
   ]
  },
  {
   "cell_type": "code",
   "execution_count": null,
   "id": "062de31e-dd38-484a-a97b-46c6fe7f1136",
   "metadata": {},
   "outputs": [],
   "source": [
    "s_r_e_utm.to_file(\"southern_rockies_simplified_events.gpkg\")"
   ]
  },
  {
   "cell_type": "code",
   "execution_count": 78,
   "id": "97555463-1616-4ac1-b4c7-e478e6fd7d7f",
   "metadata": {},
   "outputs": [],
   "source": []
  },
  {
   "cell_type": "markdown",
   "id": "defb572a-0631-4e40-b525-6aec8b246beb",
   "metadata": {},
   "source": [
    "## Zonalstats"
   ]
  },
  {
   "cell_type": "code",
   "execution_count": 108,
   "id": "781a20d1-7c5c-422e-9939-8920e0251baa",
   "metadata": {},
   "outputs": [
    {
     "ename": "AttributeError",
     "evalue": "Can't pickle local object 'get_elev_stats.<locals>.elev_zonal_stats_partial'",
     "output_type": "error",
     "traceback": [
      "\u001b[0;31m---------------------------------------------------------------------------\u001b[0m",
      "\u001b[0;31mAttributeError\u001b[0m                            Traceback (most recent call last)",
      "Cell \u001b[0;32mIn[108], line 1\u001b[0m\n\u001b[0;32m----> 1\u001b[0m elevation_mean \u001b[38;5;241m=\u001b[39m \u001b[43mget_elev_stats\u001b[49m\u001b[43m(\u001b[49m\u001b[38;5;124;43m\"\u001b[39;49m\u001b[38;5;124;43msouthern_rockies_simplified_events.gpkg\u001b[39;49m\u001b[38;5;124;43m\"\u001b[39;49m\u001b[43m)\u001b[49m\n",
      "Cell \u001b[0;32mIn[107], line 102\u001b[0m, in \u001b[0;36mget_elev_stats\u001b[0;34m(vector)\u001b[0m\n\u001b[1;32m     99\u001b[0m p \u001b[38;5;241m=\u001b[39m multiprocessing\u001b[38;5;241m.\u001b[39mPool(cores)\n\u001b[1;32m    101\u001b[0m \u001b[38;5;66;03m# parallel map\u001b[39;00m\n\u001b[0;32m--> 102\u001b[0m stats_lists \u001b[38;5;241m=\u001b[39m \u001b[43mp\u001b[49m\u001b[38;5;241;43m.\u001b[39;49m\u001b[43mmap\u001b[49m\u001b[43m(\u001b[49m\u001b[43melev_zonal_stats_partial\u001b[49m\u001b[43m,\u001b[49m\u001b[43m \u001b[49m\u001b[43mchunks\u001b[49m\u001b[43m(\u001b[49m\u001b[43mfeatures\u001b[49m\u001b[43m,\u001b[49m\u001b[43m \u001b[49m\u001b[43mcores\u001b[49m\u001b[43m)\u001b[49m\u001b[43m)\u001b[49m\n\u001b[1;32m    104\u001b[0m \u001b[38;5;66;03m# flatten to a single list\u001b[39;00m\n\u001b[1;32m    105\u001b[0m stats \u001b[38;5;241m=\u001b[39m \u001b[38;5;28mlist\u001b[39m(itertools\u001b[38;5;241m.\u001b[39mchain(\u001b[38;5;241m*\u001b[39mstats_lists))\n",
      "File \u001b[0;32m/opt/conda/envs/macrosystems/lib/python3.10/multiprocessing/pool.py:367\u001b[0m, in \u001b[0;36mPool.map\u001b[0;34m(self, func, iterable, chunksize)\u001b[0m\n\u001b[1;32m    362\u001b[0m \u001b[38;5;28;01mdef\u001b[39;00m \u001b[38;5;21mmap\u001b[39m(\u001b[38;5;28mself\u001b[39m, func, iterable, chunksize\u001b[38;5;241m=\u001b[39m\u001b[38;5;28;01mNone\u001b[39;00m):\n\u001b[1;32m    363\u001b[0m \u001b[38;5;250m    \u001b[39m\u001b[38;5;124;03m'''\u001b[39;00m\n\u001b[1;32m    364\u001b[0m \u001b[38;5;124;03m    Apply `func` to each element in `iterable`, collecting the results\u001b[39;00m\n\u001b[1;32m    365\u001b[0m \u001b[38;5;124;03m    in a list that is returned.\u001b[39;00m\n\u001b[1;32m    366\u001b[0m \u001b[38;5;124;03m    '''\u001b[39;00m\n\u001b[0;32m--> 367\u001b[0m     \u001b[38;5;28;01mreturn\u001b[39;00m \u001b[38;5;28;43mself\u001b[39;49m\u001b[38;5;241;43m.\u001b[39;49m\u001b[43m_map_async\u001b[49m\u001b[43m(\u001b[49m\u001b[43mfunc\u001b[49m\u001b[43m,\u001b[49m\u001b[43m \u001b[49m\u001b[43miterable\u001b[49m\u001b[43m,\u001b[49m\u001b[43m \u001b[49m\u001b[43mmapstar\u001b[49m\u001b[43m,\u001b[49m\u001b[43m \u001b[49m\u001b[43mchunksize\u001b[49m\u001b[43m)\u001b[49m\u001b[38;5;241;43m.\u001b[39;49m\u001b[43mget\u001b[49m\u001b[43m(\u001b[49m\u001b[43m)\u001b[49m\n",
      "File \u001b[0;32m/opt/conda/envs/macrosystems/lib/python3.10/multiprocessing/pool.py:774\u001b[0m, in \u001b[0;36mApplyResult.get\u001b[0;34m(self, timeout)\u001b[0m\n\u001b[1;32m    772\u001b[0m     \u001b[38;5;28;01mreturn\u001b[39;00m \u001b[38;5;28mself\u001b[39m\u001b[38;5;241m.\u001b[39m_value\n\u001b[1;32m    773\u001b[0m \u001b[38;5;28;01melse\u001b[39;00m:\n\u001b[0;32m--> 774\u001b[0m     \u001b[38;5;28;01mraise\u001b[39;00m \u001b[38;5;28mself\u001b[39m\u001b[38;5;241m.\u001b[39m_value\n",
      "File \u001b[0;32m/opt/conda/envs/macrosystems/lib/python3.10/multiprocessing/pool.py:540\u001b[0m, in \u001b[0;36mPool._handle_tasks\u001b[0;34m(taskqueue, put, outqueue, pool, cache)\u001b[0m\n\u001b[1;32m    538\u001b[0m     \u001b[38;5;28;01mbreak\u001b[39;00m\n\u001b[1;32m    539\u001b[0m \u001b[38;5;28;01mtry\u001b[39;00m:\n\u001b[0;32m--> 540\u001b[0m     \u001b[43mput\u001b[49m\u001b[43m(\u001b[49m\u001b[43mtask\u001b[49m\u001b[43m)\u001b[49m\n\u001b[1;32m    541\u001b[0m \u001b[38;5;28;01mexcept\u001b[39;00m \u001b[38;5;167;01mException\u001b[39;00m \u001b[38;5;28;01mas\u001b[39;00m e:\n\u001b[1;32m    542\u001b[0m     job, idx \u001b[38;5;241m=\u001b[39m task[:\u001b[38;5;241m2\u001b[39m]\n",
      "File \u001b[0;32m/opt/conda/envs/macrosystems/lib/python3.10/multiprocessing/connection.py:206\u001b[0m, in \u001b[0;36m_ConnectionBase.send\u001b[0;34m(self, obj)\u001b[0m\n\u001b[1;32m    204\u001b[0m \u001b[38;5;28mself\u001b[39m\u001b[38;5;241m.\u001b[39m_check_closed()\n\u001b[1;32m    205\u001b[0m \u001b[38;5;28mself\u001b[39m\u001b[38;5;241m.\u001b[39m_check_writable()\n\u001b[0;32m--> 206\u001b[0m \u001b[38;5;28mself\u001b[39m\u001b[38;5;241m.\u001b[39m_send_bytes(\u001b[43m_ForkingPickler\u001b[49m\u001b[38;5;241;43m.\u001b[39;49m\u001b[43mdumps\u001b[49m\u001b[43m(\u001b[49m\u001b[43mobj\u001b[49m\u001b[43m)\u001b[49m)\n",
      "File \u001b[0;32m/opt/conda/envs/macrosystems/lib/python3.10/multiprocessing/reduction.py:51\u001b[0m, in \u001b[0;36mForkingPickler.dumps\u001b[0;34m(cls, obj, protocol)\u001b[0m\n\u001b[1;32m     48\u001b[0m \u001b[38;5;129m@classmethod\u001b[39m\n\u001b[1;32m     49\u001b[0m \u001b[38;5;28;01mdef\u001b[39;00m \u001b[38;5;21mdumps\u001b[39m(\u001b[38;5;28mcls\u001b[39m, obj, protocol\u001b[38;5;241m=\u001b[39m\u001b[38;5;28;01mNone\u001b[39;00m):\n\u001b[1;32m     50\u001b[0m     buf \u001b[38;5;241m=\u001b[39m io\u001b[38;5;241m.\u001b[39mBytesIO()\n\u001b[0;32m---> 51\u001b[0m     \u001b[38;5;28;43mcls\u001b[39;49m\u001b[43m(\u001b[49m\u001b[43mbuf\u001b[49m\u001b[43m,\u001b[49m\u001b[43m \u001b[49m\u001b[43mprotocol\u001b[49m\u001b[43m)\u001b[49m\u001b[38;5;241;43m.\u001b[39;49m\u001b[43mdump\u001b[49m\u001b[43m(\u001b[49m\u001b[43mobj\u001b[49m\u001b[43m)\u001b[49m\n\u001b[1;32m     52\u001b[0m     \u001b[38;5;28;01mreturn\u001b[39;00m buf\u001b[38;5;241m.\u001b[39mgetbuffer()\n",
      "\u001b[0;31mAttributeError\u001b[0m: Can't pickle local object 'get_elev_stats.<locals>.elev_zonal_stats_partial'"
     ]
    }
   ],
   "source": [
    "elevation_mean = get_elev_stats(\"southern_rockies_simplified_events.gpkg\")"
   ]
  },
  {
   "cell_type": "code",
   "execution_count": null,
   "id": "8be99335-6339-47b5-9f22-016f46018e8d",
   "metadata": {},
   "outputs": [],
   "source": []
  },
  {
   "cell_type": "code",
   "execution_count": 90,
   "id": "2bece73d-0fee-4116-8072-67a241def8fb",
   "metadata": {},
   "outputs": [
    {
     "data": {
      "text/plain": [
       "1864022"
      ]
     },
     "execution_count": 90,
     "metadata": {},
     "output_type": "execute_result"
    }
   ],
   "source": []
  },
  {
   "cell_type": "code",
   "execution_count": null,
   "id": "ab59c654-10be-4b49-9fa1-d049db5a2e3c",
   "metadata": {},
   "outputs": [],
   "source": []
  }
 ],
 "metadata": {
  "kernelspec": {
   "display_name": "macrosystems",
   "language": "python",
   "name": "macrosystems"
  },
  "language_info": {
   "codemirror_mode": {
    "name": "ipython",
    "version": 3
   },
   "file_extension": ".py",
   "mimetype": "text/x-python",
   "name": "python",
   "nbconvert_exporter": "python",
   "pygments_lexer": "ipython3",
   "version": "3.10.13"
  }
 },
 "nbformat": 4,
 "nbformat_minor": 5
}
