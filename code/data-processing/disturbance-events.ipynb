{
 "cells": [
  {
   "cell_type": "code",
   "execution_count": null,
   "id": "56fe2052-a12d-46a2-a34a-87215b319628",
   "metadata": {},
   "outputs": [],
   "source": [
    "# get data\n",
    "! cp -r ~/data-store/data/iplant/home/shared/earthlab/forest_carbon_codefest/Disturbance/LF_Public_Events_1999_2022 ./LF_Events"
   ]
  },
  {
   "cell_type": "code",
   "execution_count": 2,
   "id": "0ecd7e04-6342-48e8-84a0-8927bd0d594b",
   "metadata": {},
   "outputs": [
    {
     "name": "stdout",
     "output_type": "stream",
     "text": [
      "--2024-03-12 23:18:52--  https://gaftp.epa.gov/EPADataCommons/ORD/Ecoregions/us/us_eco_l3.zip\n",
      "Resolving gaftp.epa.gov (gaftp.epa.gov)... 134.67.100.99, 2620:117:506f:c7::f063\n",
      "Connecting to gaftp.epa.gov (gaftp.epa.gov)|134.67.100.99|:443... connected.\n",
      "WARNING: cannot verify gaftp.epa.gov's certificate, issued by ‘CN=DigiCert Global G2 TLS RSA SHA256 2020 CA1,O=DigiCert Inc,C=US’:\n",
      "  Unable to locally verify the issuer's authority.\n",
      "HTTP request sent, awaiting response... 200 OK\n",
      "Length: 28424315 (27M) [application/zip]\n",
      "Saving to: ‘us_eco_l3.zip’\n",
      "\n",
      "us_eco_l3.zip       100%[===================>]  27.11M  2.92MB/s    in 8.4s    \n",
      "\n",
      "2024-03-12 23:19:01 (3.21 MB/s) - ‘us_eco_l3.zip’ saved [28424315/28424315]\n",
      "\n"
     ]
    }
   ],
   "source": [
    "! wget --no-check-certificate https://gaftp.epa.gov/EPADataCommons/ORD/Ecoregions/us/us_eco_l3.zip"
   ]
  },
  {
   "cell_type": "code",
   "execution_count": null,
   "id": "620d6795-68f1-438d-b7d8-aeac53ba9a37",
   "metadata": {},
   "outputs": [],
   "source": []
  },
  {
   "cell_type": "code",
   "execution_count": 26,
   "id": "586cdc78-e3e8-425d-866c-4d0bef0ac58d",
   "metadata": {},
   "outputs": [],
   "source": [
    "import geopandas as gpd\n",
    "from collections import Counter\n",
    "import shapely\n",
    "import json\n",
    "import matplotlib.pyplot as plt"
   ]
  },
  {
   "cell_type": "code",
   "execution_count": 4,
   "id": "66c73506-c521-4f3b-8494-e6b317b27a61",
   "metadata": {},
   "outputs": [],
   "source": [
    "us_eco = gpd.read_file(\"us_eco_l3.zip\").to_crs(\"EPSG:4326\")\n",
    "s_rock_aoi = us_eco[us_eco.US_L3NAME == \"Southern Rockies\"].geometry.unary_union"
   ]
  },
  {
   "cell_type": "code",
   "execution_count": 5,
   "id": "78a05a3a-0350-404e-b57b-33186a522073",
   "metadata": {},
   "outputs": [],
   "source": [
    "event_df = gpd.read_file(\n",
    "    \"./LF_Events/LF_Public_Events_1999_2022.gdb\",\n",
    "    layer=\"CONUS_230_PublicModelReadyEvents\"\n",
    ").to_crs(\"EPSG:4326\")"
   ]
  },
  {
   "cell_type": "code",
   "execution_count": 6,
   "id": "4f4e96e8-fb0b-4835-b441-a1c830a3b720",
   "metadata": {},
   "outputs": [],
   "source": [
    "s_rock_events = event_df[event_df.intersects(s_rock_aoi)]"
   ]
  },
  {
   "cell_type": "code",
   "execution_count": 9,
   "id": "be01f19f-77e1-4409-aee7-5f821a8171f3",
   "metadata": {},
   "outputs": [
    {
     "name": "stdout",
     "output_type": "stream",
     "text": [
      "(69506, 16)\n",
      "Counter({'Insects': 28857, 'Insects/Disease': 6430, 'Prescribed Fire': 6364, 'Other Mechanical': 6307, 'Herbicide': 5940, 'Thinning': 4471, 'Wildfire': 2637, 'Clearcut': 1704, 'Harvest': 1524, 'Planting': 1155, 'Chemical': 1098, 'Disease': 872, 'Mastication': 773, 'Wildland Fire': 430, 'Weather': 402, 'Biological': 262, 'Seeding': 145, 'Development': 75, 'Wildland Fire Use': 42, 'Reforestation': 12, 'Insecticide': 6})\n"
     ]
    }
   ],
   "source": [
    "print(s_rock_events.shape)\n",
    "print(Counter(s_rock_events.Event_Type))"
   ]
  },
  {
   "cell_type": "code",
   "execution_count": 19,
   "id": "5e5617c6-1fec-4dc5-a7ca-e39035d15d36",
   "metadata": {},
   "outputs": [],
   "source": [
    "with open(\"southern_rockies_eco.geojson\", \"w\") as fh:\n",
    "    fh.write(shapely.to_geojson(s_rock_aoi))"
   ]
  },
  {
   "cell_type": "code",
   "execution_count": null,
   "id": "8acc354a-d917-44bb-ae1b-1e453dee6126",
   "metadata": {},
   "outputs": [],
   "source": [
    "s_r_e_utm = s_rock_events.to_crs(\"EPSG:32613\")"
   ]
  },
  {
   "cell_type": "code",
   "execution_count": 50,
   "id": "0e45ee97-e58e-4b61-92e3-608e4d27b8e5",
   "metadata": {},
   "outputs": [],
   "source": [
    "# combine all the cats into more general cats\n",
    "def simple_cats(input_cat: str) -> str:\n",
    "    \"\"\"Map catagories to something simple\"\"\"\n",
    "    match input_cat:\n",
    "        case \"Insects\" | \"Insects/Disease\":\n",
    "            return \"insect\"\n",
    "        case 'Wildfire':\n",
    "            return \"fire\"\n",
    "        case 'Prescribed Fire' | 'Wildland Fire' | 'Wildland Fire Use' | 'Other Mechanical' | 'Herbicide' | 'Thinning' | 'Clearcut' | 'Harvest' | 'Planting' | 'Chemical' | 'Disease' | 'Mastication' | 'Weather' | 'Biological' | 'Seeding' | 'Development' | 'Reforestation' | 'Insecticide':\n",
    "            return \"other\""
   ]
  },
  {
   "cell_type": "code",
   "execution_count": 51,
   "id": "d47112e4-cc6b-4eb6-be6b-aeb1d8999bb5",
   "metadata": {},
   "outputs": [],
   "source": [
    "s_r_e_utm[\"simple_cat\"] = s_r_e_utm.Event_Type.apply(simple_cats)"
   ]
  },
  {
   "cell_type": "code",
   "execution_count": 52,
   "id": "c46e4c0e-9f89-4cba-a4b4-79ad62f0cd50",
   "metadata": {},
   "outputs": [
    {
     "data": {
      "text/plain": [
       "Counter({'insect': 35287, 'other': 31582, 'fire': 2637})"
      ]
     },
     "execution_count": 52,
     "metadata": {},
     "output_type": "execute_result"
    }
   ],
   "source": [
    "Counter(s_r_e_utm.simple_cat)"
   ]
  },
  {
   "cell_type": "code",
   "execution_count": null,
   "id": "b8db7fcb-4946-4043-813e-31f0be8cc44c",
   "metadata": {},
   "outputs": [],
   "source": []
  },
  {
   "cell_type": "code",
   "execution_count": 37,
   "id": "3dd9a4b5-3c2e-4eeb-a680-fee2aa068586",
   "metadata": {},
   "outputs": [],
   "source": []
  },
  {
   "cell_type": "code",
   "execution_count": 61,
   "id": "c3b9d7a0-0d78-447f-bdcc-6c20f9cfebfe",
   "metadata": {},
   "outputs": [
    {
     "data": {
      "text/plain": [
       "array([[<Axes: title={'center': 'fire'}>,\n",
       "        <Axes: title={'center': 'insect'}>],\n",
       "       [<Axes: title={'center': 'other'}>, <Axes: >]], dtype=object)"
      ]
     },
     "execution_count": 61,
     "metadata": {},
     "output_type": "execute_result"
    },
    {
     "data": {
      "image/png": "[encoded data removed]",
      "text/plain": [
       "<Figure size 640x480 with 4 Axes>"
      ]
     },
     "metadata": {},
     "output_type": "display_data"
    }
   ],
   "source": [
    "# type = \"insect\"\n",
    "# type = \"fire\"\n",
    "# type = \"other\"\n",
    "# plt.hist(s_r_e_utm[s_r_e_utm.simple_cat == type].Year, bins=20, log=True, weights=s_r_e_utm[s_r_e_utm.simple_cat == type].area)\n",
    "s_r_e_utm.hist(by=\"simple_cat\", column=[\"Year\", \"simple_cat\"], bins=20, log=True)"
   ]
  },
  {
   "cell_type": "code",
   "execution_count": 62,
   "id": "053618f0-a35b-4a50-813b-10d71bdbb92c",
   "metadata": {},
   "outputs": [],
   "source": [
    "s_r_e_utm.to_file(\"southern_rockies_simplified_events.gpkg\")"
   ]
  },
  {
   "cell_type": "code",
   "execution_count": null,
   "id": "547e3cb1-4ee5-4908-b98f-b7d69fd2832f",
   "metadata": {},
   "outputs": [],
   "source": []
  }
 ],
 "metadata": {
  "kernelspec": {
   "display_name": "macrosystems",
   "language": "python",
   "name": "macrosystems"
  },
  "language_info": {
   "codemirror_mode": {
    "name": "ipython",
    "version": 3
   },
   "file_extension": ".py",
   "mimetype": "text/x-python",
   "name": "python",
   "nbconvert_exporter": "python",
   "pygments_lexer": "ipython3",
   "version": "3.10.13"
  }
 },
 "nbformat": 4,
 "nbformat_minor": 5
}
